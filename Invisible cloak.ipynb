{
 "cells": [
  {
   "cell_type": "markdown",
   "metadata": {},
   "source": [
    "# Invisible Cloak using OpenCV Python"
   ]
  },
  {
   "cell_type": "markdown",
   "metadata": {},
   "source": [
    "#### Importing PACKAGES"
   ]
  },
  {
   "cell_type": "code",
   "execution_count": 1,
   "metadata": {},
   "outputs": [],
   "source": [
    "import pandas as pd\n",
    "import numpy as np\n",
    "import cv2\n",
    "import os\n",
    "import time"
   ]
  },
  {
   "cell_type": "code",
   "execution_count": 2,
   "metadata": {},
   "outputs": [
    {
     "name": "stdout",
     "output_type": "stream",
     "text": [
      "Time you want to stop running144\n"
     ]
    }
   ],
   "source": [
    "vid = cv2.VideoWriter_fourcc(*'XVID')\n",
    "file=cv2.VideoWriter('Invisible Cloak.mkv',vid,25.0,(640,480))\n",
    "cam=cv2.VideoCapture(0)\n",
    "time.sleep(1)\n",
    "count = 0\n",
    "background = 0\n",
    "\n",
    "s=int(input(\"Time you want to stop running\"))\n",
    "\n",
    "#Background data should be stored\n",
    "for i in range(30):\n",
    "    _,background=cam.read()\n",
    "\n",
    "#Flipping the background\n",
    "background=np.flip(background,axis=1)\n",
    "\n",
    "#Defining time for auto deactivate the cam\n",
    "x=time.time()\n",
    "y=time.time()\n",
    "\n",
    "while True:\n",
    "    _,frame=cam.read()\n",
    "    frame=np.flip(frame,axis=1)\n",
    "    \n",
    "    #CONVERT bgr into HSV\n",
    "    hsv = cv2.cvtColor(frame,cv2.COLOR_BGR2HSV)\n",
    "    \n",
    "    #Setting lower value and higher value for color RED\n",
    "    lower_red = np.array([0, 120, 40])\n",
    "    upper_red = np.array([10, 255, 255])\n",
    "    mask1 = cv2.inRange(hsv, lower_red, upper_red)\n",
    "    \n",
    "    #Values for mask2\n",
    "    lower_red = np.array([155, 120, 40])\n",
    "    upper_red = np.array([180, 255, 255])\n",
    "    mask2 = cv2.inRange(hsv, lower_red, upper_red)\n",
    "    \n",
    "    #mask1 should be added with mask2\n",
    "    mask1+=mask2\n",
    "    \n",
    "    #Using morphologyEx and dilate we sharpe the image and remove noice\n",
    "    mask1 = cv2.morphologyEx(mask1, cv2.MORPH_OPEN, np.ones((3, 3),np.uint8), iterations = 2)\n",
    "    mask1 = cv2.dilate(mask1, np.ones((3, 3), np.uint8), iterations = 1)\n",
    "    mask2 = cv2.bitwise_not(mask1)\n",
    "    \n",
    "    #Adds mask with background and image\n",
    "    res1 = cv2.bitwise_and(background, background, mask = mask1)\n",
    "    res2 = cv2.bitwise_and(frame, frame, mask = mask2)\n",
    "    final_output = cv2.addWeighted(res1, 1, res2, 1, 0)\n",
    "    cv2.imshow('Invisible Man',final_output)\n",
    "    file.write(final_output)\n",
    "    y=time.time()\n",
    "    if (cv2.waitKey(1) & 0xFF == ord('q')) or (y-x)>(s-8):\n",
    "        break\n",
    "cv2.destroyAllWindows()\n",
    "cam.release()\n",
    "file.release()"
   ]
  }
 ],
 "metadata": {
  "kernelspec": {
   "display_name": "Python 3",
   "language": "python",
   "name": "python3"
  },
  "language_info": {
   "codemirror_mode": {
    "name": "ipython",
    "version": 3
   },
   "file_extension": ".py",
   "mimetype": "text/x-python",
   "name": "python",
   "nbconvert_exporter": "python",
   "pygments_lexer": "ipython3",
   "version": "3.7.6"
  }
 },
 "nbformat": 4,
 "nbformat_minor": 4
}
